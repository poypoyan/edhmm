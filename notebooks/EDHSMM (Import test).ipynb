{
 "cells": [
  {
   "cell_type": "code",
   "execution_count": 1,
   "metadata": {},
   "outputs": [],
   "source": [
    "import numpy as np\n",
    "from edhsmm.hsmm_base import GaussianHSMM"
   ]
  },
  {
   "cell_type": "code",
   "execution_count": 2,
   "metadata": {},
   "outputs": [],
   "source": [
    "# initial parameters (from hsmmlearn tutorial)\n",
    "def my_init(hsmm_class):\n",
    "    hsmm_class.pi = np.array([1 / 3, 1 / 3, 1 / 3])\n",
    "    hsmm_class.dur = np.array([\n",
    "        [0.1, 0.005, 0.005, 0.89],\n",
    "        [0.1, 0.005, 0.89, 0.005],\n",
    "        [0.1, 0.89, 0.005, 0.005]\n",
    "    ])\n",
    "    hsmm_class.tmat = np.array([\n",
    "        [0.0, 0.5, 0.5],\n",
    "        [0.3, 0.0, 0.7],\n",
    "        [0.6, 0.4, 0.0]\n",
    "    ])\n",
    "    hsmm_class.mean = np.array([[0.0], [5.0], [10.0]])   # shape should be (n_states, n_dim)\n",
    "    hsmm_class.covmat = np.array([   # shape should be (n_states, n_dim, n_dim) -> array of square matrices\n",
    "        [[1.]],\n",
    "        [[1.]],\n",
    "        [[1.]]\n",
    "    ])"
   ]
  },
  {
   "cell_type": "markdown",
   "metadata": {},
   "source": [
    "#### Notes on censoring:\n",
    "* As I am not a statistician, I honestly am not sure if the usage of terminology is correct.\n",
    "* Setting `left_censor` to non-zero means that HSMM assumes \"left-censoring\", which we mean that the beginning of first state *may* happen before the first observation. On the other hand, setting `left_censor` to zero doesn't assume left-censoring, meaning that the beginning of the first state is assumed to have happened *at* the first observation.\n",
    "* **WARNING:** left-censoring is experimental for now.\n",
    "* Similarly, setting `right_censor` to non-zero means that HSMM assumes \"right-censoring\", which we mean that the end of last state *may* happen after the last observation. On the other hand, setting `right_censor` to zero doesn't assume right-censoring, meaning that the end of the last state is assumed to have happened *at* the last observation.\n",
    "* All functions (`sample()`, `score()`, `predict()`, and `fit()`) support censoring. By default, `left_censor = 0` and `right_censor = 1`."
   ]
  },
  {
   "cell_type": "code",
   "execution_count": 3,
   "metadata": {},
   "outputs": [
    {
     "name": "stdout",
     "output_type": "stream",
     "text": [
      "FIT: reestimation complete for loop 1.\n",
      "FIT: reestimation complete for loop 2.\n",
      "FIT: converged at loop 3.\n"
     ]
    },
    {
     "data": {
      "text/plain": [
       "<edhsmm.hsmm_base.GaussianHSMM at 0x1f53dc7fd30>"
      ]
     },
     "execution_count": 3,
     "metadata": {},
     "output_type": "execute_result"
    }
   ],
   "source": [
    "# initialize HSMM\n",
    "R = GaussianHSMM(n_states = 3, n_durations = 4)\n",
    "my_init(R)\n",
    "# sample observations (from hsmmlearn)\n",
    "obs = np.array([9.7471989, 9.01877392, -1.28428112, 0.55009463, 0.58425178, 0.43354177,\n",
    "                10.63374352, 10.14025491, 5.3215164, 5.46421001, 5.16719792, 9.12216889,\n",
    "                10.49171453, -0.72812025, 0.57309517, 0.3420868, -1.35338431, 4.12587557,\n",
    "                6.907117, 5.41243634])\n",
    "obs = obs[:, None]   # shape should be (n_samples, n_dim)\n",
    "# EM algorithm\n",
    "R.fit(obs)"
   ]
  },
  {
   "cell_type": "code",
   "execution_count": 4,
   "metadata": {},
   "outputs": [
    {
     "data": {
      "text/plain": [
       "-25.87422389268414"
      ]
     },
     "execution_count": 4,
     "metadata": {},
     "output_type": "execute_result"
    }
   ],
   "source": [
    "# log-likelihood of time-series under the model\n",
    "# note: for HSMMs with continuous emissions like GaussianHSMM, log-likelihoods can be positive.\n",
    "# in other words, likelihoods can be greater than 1!\n",
    "R.score(obs)"
   ]
  },
  {
   "cell_type": "code",
   "execution_count": 5,
   "metadata": {},
   "outputs": [
    {
     "name": "stdout",
     "output_type": "stream",
     "text": [
      "0\n"
     ]
    }
   ],
   "source": [
    "# Viterbi algorithm\n",
    "# note: \"logl\" is different from \"score\" above. \"logl\" here is the log-likelihood\n",
    "# of time-series AND the state sequence (the \"states\" variable below) under the model\n",
    "states, logl = R.predict(obs)\n",
    "# correct states (from hsmmlearn tutorial)\n",
    "correct = np.array([2,2,0,0,0,0,2,2,1,1,1,2,2,0,0,0,0,1,1,1])\n",
    "# how many incorrect states?\n",
    "print(np.sum(states != correct))"
   ]
  },
  {
   "cell_type": "markdown",
   "metadata": {},
   "source": [
    "#### Support for multiple observation sequences!\n",
    "* For this demo, the `obs` variable is just repeated. Because of this, when `fit()` has `lengths` corresponding\n",
    "to the `multi_obs` having 2 sequences, the learned HSMM parameters must be close to above."
   ]
  },
  {
   "cell_type": "code",
   "execution_count": 6,
   "metadata": {},
   "outputs": [],
   "source": [
    "multi_obs = np.append(obs, obs, axis=0)\n",
    "multi_len = [len(obs), len(obs)]"
   ]
  },
  {
   "cell_type": "code",
   "execution_count": 7,
   "metadata": {},
   "outputs": [
    {
     "name": "stdout",
     "output_type": "stream",
     "text": [
      "FIT: reestimation complete for loop 1.\n",
      "FIT: reestimation complete for loop 2.\n",
      "FIT: converged at loop 3.\n"
     ]
    },
    {
     "data": {
      "text/plain": [
       "<edhsmm.hsmm_base.GaussianHSMM at 0x1f53ddb0460>"
      ]
     },
     "execution_count": 7,
     "metadata": {},
     "output_type": "execute_result"
    }
   ],
   "source": [
    "# initialize HSMM\n",
    "S = GaussianHSMM(n_states = 3, n_durations = 4)\n",
    "my_init(S)\n",
    "# EM algorithm\n",
    "S.fit(multi_obs, lengths=multi_len)"
   ]
  },
  {
   "cell_type": "code",
   "execution_count": 8,
   "metadata": {},
   "outputs": [
    {
     "name": "stdout",
     "output_type": "stream",
     "text": [
      "Start Probabilities: True\n",
      "Transition Matrix: True\n",
      "Durations: True\n",
      "Means: True\n",
      "Covariance Matrices: True\n",
      "\n",
      "\n",
      "Start Probabilities: [R]\n",
      " [1.08688135e-69 2.37979076e-22 1.00000000e+00] \n",
      "Start Probabilities: [S]\n",
      " [1.08688135e-69 2.37979076e-22 1.00000000e+00] \n",
      "\n",
      "Transition Matrix: [R]\n",
      " [[0.00000000e+00 5.00000000e-01 5.00000000e-01]\n",
      " [2.56937871e-19 0.00000000e+00 1.00000000e+00]\n",
      " [6.66666667e-01 3.33333333e-01 0.00000000e+00]] \n",
      "Transition Matrix: [S]\n",
      " [[0.00000000e+00 5.00000000e-01 5.00000000e-01]\n",
      " [2.56937871e-19 0.00000000e+00 1.00000000e+00]\n",
      " [6.66666667e-01 3.33333333e-01 0.00000000e+00]] \n",
      "\n",
      "Durations: [R]\n",
      " [[5.07959969e-27 8.67694653e-33 2.74135825e-21 1.00000000e+00]\n",
      " [8.41014588e-14 3.83344255e-19 1.00000000e+00 1.10263279e-16]\n",
      " [5.61360746e-14 1.00000000e+00 3.12656940e-29 8.27053039e-40]] \n",
      "Durations: [S]\n",
      " [[5.07959969e-27 8.67694653e-33 2.74135825e-21 1.00000000e+00]\n",
      " [8.41014588e-14 3.83344255e-19 1.00000000e+00 1.10263279e-16]\n",
      " [5.61360746e-14 1.00000000e+00 3.12656940e-29 8.27053039e-40]] \n",
      "\n",
      "Means: [R]\n",
      " [[-0.11033944]\n",
      " [ 5.39972554]\n",
      " [ 9.85897578]] \n",
      "Means: [S]\n",
      " [[-0.11033944]\n",
      " [ 5.39972554]\n",
      " [ 9.85897578]] \n",
      "\n",
      "Covariance Matrices: [R]\n",
      " [[[0.64889525]]\n",
      "\n",
      " [[0.65990472]]\n",
      "\n",
      " [[0.39017649]]] \n",
      "Covariance Matrices: [S]\n",
      " [[[0.64889525]]\n",
      "\n",
      " [[0.65990472]]\n",
      "\n",
      " [[0.39017649]]]\n"
     ]
    }
   ],
   "source": [
    "# do the learned parameters of R and S have close values?\n",
    "print(\"Start Probabilities:\", np.allclose(R.pi,S.pi))\n",
    "print(\"Transition Matrix:\", np.allclose(R.tmat,S.tmat))\n",
    "print(\"Durations:\", np.allclose(R.dur,S.dur))\n",
    "print(\"Means:\", np.allclose(R.mean,S.mean))\n",
    "print(\"Covariance Matrices:\", np.allclose(R.covmat,S.covmat))\n",
    "# display learned parameters for both R and S\n",
    "print(\"\\n\")\n",
    "print(\"Start Probabilities: [R]\\n\", R.pi, \"\\nStart Probabilities: [S]\\n\", S.pi, \"\\n\")\n",
    "print(\"Transition Matrix: [R]\\n\", R.tmat, \"\\nTransition Matrix: [S]\\n\", S.tmat, \"\\n\")\n",
    "print(\"Durations: [R]\\n\", R.dur, \"\\nDurations: [S]\\n\", S.dur, \"\\n\")\n",
    "print(\"Means: [R]\\n\", R.mean, \"\\nMeans: [S]\\n\", S.mean, \"\\n\")\n",
    "print(\"Covariance Matrices: [R]\\n\", R.covmat, \"\\nCovariance Matrices: [S]\\n\", S.covmat)"
   ]
  },
  {
   "attachments": {
    "fit_print.png": {
     "image/png": "[encoded data removed]"
    }
   },
   "cell_type": "markdown",
   "metadata": {},
   "source": [
    "#### NEW! Support for parallelism with Joblib\n",
    "* All methods now return something. For `fit()`, it returns `self`, the fitted model.\n",
    "* There is a new attribute called \"name\". This is used in displayed messages for monitoring (see image below). This is helpful when models are run in parallel.\n",
    "![fit_print.png](attachment:fit_print.png)"
   ]
  },
  {
   "cell_type": "code",
   "execution_count": 9,
   "metadata": {},
   "outputs": [],
   "source": [
    "# initialize HSMM\n",
    "R = GaussianHSMM(n_states = 3, n_durations = 4, name = \"Model 1\")\n",
    "my_init(R)\n",
    "S = GaussianHSMM(n_states = 3, n_durations = 4, name = \"Model 2\")\n",
    "my_init(S)"
   ]
  },
  {
   "cell_type": "code",
   "execution_count": 10,
   "metadata": {},
   "outputs": [
    {
     "name": "stdout",
     "output_type": "stream",
     "text": [
      "[[0.00000000e+00 5.00000000e-01 5.00000000e-01]\n",
      " [2.56937871e-19 0.00000000e+00 1.00000000e+00]\n",
      " [6.66666667e-01 3.33333333e-01 0.00000000e+00]]\n",
      "[[0.00000000e+00 5.00000000e-01 5.00000000e-01]\n",
      " [2.56937871e-19 0.00000000e+00 1.00000000e+00]\n",
      " [6.66666667e-01 3.33333333e-01 0.00000000e+00]]\n"
     ]
    }
   ],
   "source": [
    "from joblib import Parallel, delayed\n",
    "\n",
    "models = [R, S]\n",
    "data = [obs, obs]\n",
    "\n",
    "# EM algorithm\n",
    "[R, S] = Parallel(n_jobs=-1)(delayed(i.fit)(j) for i, j in zip(models, data))\n",
    "\n",
    "# check if models are updated\n",
    "print(R.tmat)\n",
    "print(S.tmat)"
   ]
  },
  {
   "cell_type": "markdown",
   "metadata": {},
   "source": [
    "#### Generate observations!\n",
    "**Notes:**\n",
    "* If with right censor, the number of samples is exactly equal to given `n_samples`.\n",
    "* If without right censor, the number of samples will be the GREATEST possible number\n",
    "  LESS than or equal to the given `n_samples`. A notice will be displayed if `n_samples` is less than the first state duration.\n",
    "* If with left censor, the first state duration may be cut at the first observation.\n",
    "* If attributes are not given, the default values are from `_init()`, but since there is no `X` unlike in\n",
    "  `score()/predict()/fit()`, GaussianHSMM is supplied with the following default values:\n",
    " - One (1) for `sample.n_dim`\n",
    " - Zeros for `sample.mean`\n",
    " - Identity matrices for `sample.covmat`\n",
    "* `random_state` is used in testing."
   ]
  },
  {
   "cell_type": "code",
   "execution_count": 11,
   "metadata": {},
   "outputs": [
    {
     "data": {
      "text/plain": [
       "(10,\n",
       " array([[ 1.03277384e+01],\n",
       "        [ 1.04464911e+01],\n",
       "        [-7.35883848e-03],\n",
       "        [-3.65085609e-01],\n",
       "        [-1.23873452e-01],\n",
       "        [-7.97500743e-01],\n",
       "        [ 5.45336526e+00],\n",
       "        [ 6.31543452e+00],\n",
       "        [ 5.77950451e+00],\n",
       "        [ 9.26001830e+00]]),\n",
       " array([2, 2, 0, 0, 0, 0, 1, 1, 1, 2]))"
      ]
     },
     "execution_count": 11,
     "metadata": {},
     "output_type": "execute_result"
    }
   ],
   "source": [
    "R.sample(10, random_state=42)   # exactly 10 samples, with right censor (default)"
   ]
  },
  {
   "cell_type": "code",
   "execution_count": 12,
   "metadata": {},
   "outputs": [
    {
     "data": {
      "text/plain": [
       "(9,\n",
       " array([[ 1.03277384e+01],\n",
       "        [ 1.04464911e+01],\n",
       "        [-7.35883848e-03],\n",
       "        [-3.65085609e-01],\n",
       "        [-1.23873452e-01],\n",
       "        [-7.97500743e-01],\n",
       "        [ 5.45336526e+00],\n",
       "        [ 6.31543452e+00],\n",
       "        [ 5.77950451e+00]]),\n",
       " array([2, 2, 0, 0, 0, 0, 1, 1, 1]))"
      ]
     },
     "execution_count": 12,
     "metadata": {},
     "output_type": "execute_result"
    }
   ],
   "source": [
    "R.sample(10, right_censor=0, random_state=42)   # at MOST 10 samples, without right censor"
   ]
  },
  {
   "cell_type": "markdown",
   "metadata": {},
   "source": [
    "### Multinomial HSMM (Discrete Emissions)"
   ]
  },
  {
   "cell_type": "code",
   "execution_count": 13,
   "metadata": {},
   "outputs": [],
   "source": [
    "from edhsmm.hsmm_multinom import MultinomialHSMM"
   ]
  },
  {
   "cell_type": "code",
   "execution_count": 14,
   "metadata": {},
   "outputs": [],
   "source": [
    "# modified initial parameters for MultinomialHSMM\n",
    "def my_init_2(hsmm_class):\n",
    "    hsmm_class.pi = np.array([1 / 3, 1 / 3, 1 / 3])\n",
    "    hsmm_class.dur = np.array([\n",
    "        [0.1, 0.005, 0.005, 0.89],\n",
    "        [0.1, 0.005, 0.89, 0.005],\n",
    "        [0.1, 0.89, 0.005, 0.005]\n",
    "    ])\n",
    "    hsmm_class.tmat = np.array([\n",
    "        [0.0, 0.5, 0.5],\n",
    "        [0.3, 0.0, 0.7],\n",
    "        [0.6, 0.4, 0.0]\n",
    "    ])\n",
    "    hsmm_class.emit = np.array([\n",
    "        [0.0, 0.3, 0.7],\n",
    "        [0.6, 0.3, 0.1],\n",
    "        [0.5, 0.0, 0.5]\n",
    "    ])   # shape should be (n_states, n_symbols)"
   ]
  },
  {
   "cell_type": "code",
   "execution_count": 15,
   "metadata": {},
   "outputs": [
    {
     "name": "stdout",
     "output_type": "stream",
     "text": [
      "FIT: reestimation complete for loop 1.\n",
      "FIT: reestimation complete for loop 2.\n",
      "FIT: reestimation complete for loop 3.\n",
      "FIT: reestimation complete for loop 4.\n",
      "FIT: reestimation complete for loop 5.\n",
      "FIT: converged at loop 6.\n"
     ]
    },
    {
     "data": {
      "text/plain": [
       "<edhsmm.hsmm_multinom.MultinomialHSMM at 0x1f53de0d810>"
      ]
     },
     "execution_count": 15,
     "metadata": {},
     "output_type": "execute_result"
    }
   ],
   "source": [
    "# initialize HSMM\n",
    "T = MultinomialHSMM(n_states = 3, n_durations = 4)\n",
    "my_init_2(T)\n",
    "# sample observations (made up by me)\n",
    "obs = np.array([2, 2, 2, 2, 1, 1, 1, 0, 0, 2, 1, 1, 0, 0, 0])\n",
    "obs = obs[:, None]   # shape should be (n_samples, 1)\n",
    "# EM algorithm\n",
    "T.fit(obs)"
   ]
  },
  {
   "cell_type": "code",
   "execution_count": 16,
   "metadata": {},
   "outputs": [
    {
     "name": "stdout",
     "output_type": "stream",
     "text": [
      "Start Probabilities: [T]\n",
      " [1.00000000e+00 6.75140456e-74 4.03018412e-54] \n",
      "\n",
      "Transition Matrix: [T]\n",
      " [[0.00000000e+00 1.00000000e+00 1.16842736e-42]\n",
      " [9.27135767e-45 0.00000000e+00 1.00000000e+00]\n",
      " [1.00000000e+00 6.26623255e-13 0.00000000e+00]] \n",
      "\n",
      "Durations: [T]\n",
      " [[5.00000000e-001 1.90516244e-025 2.32798476e-026 5.00000000e-001]\n",
      " [9.54968763e-025 4.41297537e-013 9.99994851e-001 5.14898936e-006]\n",
      " [2.79805365e-012 1.00000000e+000 1.55111068e-013 3.27572380e-122]] \n",
      "\n",
      "Emission Probabilities: [T]\n",
      " [[0.00000000e+00 7.62089478e-26 1.00000000e+00]\n",
      " [1.66668097e-01 8.33331903e-01 1.36384978e-19]\n",
      " [1.00000000e+00 0.00000000e+00 5.99996043e-23]] \n",
      "\n"
     ]
    }
   ],
   "source": [
    "# display learned parameters for T\n",
    "print(\"Start Probabilities: [T]\\n\", T.pi, \"\\n\")\n",
    "print(\"Transition Matrix: [T]\\n\", T.tmat, \"\\n\")\n",
    "print(\"Durations: [T]\\n\", T.dur, \"\\n\")\n",
    "print(\"Emission Probabilities: [T]\\n\", T.emit, \"\\n\")"
   ]
  },
  {
   "cell_type": "code",
   "execution_count": null,
   "metadata": {},
   "outputs": [],
   "source": []
  }
 ],
 "metadata": {
  "kernelspec": {
   "display_name": "Python 3 (ipykernel)",
   "language": "python",
   "name": "python3"
  },
  "language_info": {
   "codemirror_mode": {
    "name": "ipython",
    "version": 3
   },
   "file_extension": ".py",
   "mimetype": "text/x-python",
   "name": "python",
   "nbconvert_exporter": "python",
   "pygments_lexer": "ipython3",
   "version": "3.10.9"
  }
 },
 "nbformat": 4,
 "nbformat_minor": 2
}
