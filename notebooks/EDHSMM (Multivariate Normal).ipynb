{
 "cells": [
  {
   "cell_type": "code",
   "execution_count": 1,
   "metadata": {},
   "outputs": [],
   "source": [
    "import numpy as np\n",
    "import matplotlib.pyplot as plt"
   ]
  },
  {
   "cell_type": "code",
   "execution_count": 2,
   "metadata": {},
   "outputs": [],
   "source": [
    "# # Original HMM (uses hmmlearn)\n",
    "# from hmmlearn import hmm\n",
    "# S = hmm.GaussianHMM(3, covariance_type='full')\n",
    "\n",
    "# S.startprob_ = np.array([0.1, 0.6, 0.3])\n",
    "# S.transmat_ = np.array([[0.8, 0.1, 0.1], [0.1, 0.8, 0.1], [0.1, 0.1, 0.8]])\n",
    "# S.means_ = np.array([[0, 5],[-1, -1],[-1, 3]])\n",
    "# S.covars_ = np.array([\n",
    "#     [[0.1, -0.5],\n",
    "#      [-0.5, 3]],\n",
    "#     [[0.6, 0.7],\n",
    "#      [0.7, 1]],\n",
    "#     [[1, 0],\n",
    "#      [0, 1]]\n",
    "#     ])\n",
    "\n",
    "# obs, states = S.sample(300)\n",
    "# np.savetxt('sample.txt', obs)"
   ]
  },
  {
   "cell_type": "code",
   "execution_count": 3,
   "metadata": {},
   "outputs": [],
   "source": [
    "# copies from above\n",
    "OG_means = np.array([[0, 5],[-1, -1],[-1, 3]])\n",
    "OG_covars = np.array([\n",
    "    [[0.1, -0.5],\n",
    "     [-0.5, 3]],\n",
    "    [[0.6, 0.7],\n",
    "     [0.7, 1]],\n",
    "    [[1, 0],\n",
    "     [0, 1]]\n",
    "    ])"
   ]
  },
  {
   "cell_type": "code",
   "execution_count": 4,
   "metadata": {},
   "outputs": [],
   "source": [
    "data = np.loadtxt('sample.txt')"
   ]
  },
  {
   "cell_type": "code",
   "execution_count": 5,
   "metadata": {},
   "outputs": [
    {
     "data": {
      "image/png": "[encoded data removed]",
      "text/plain": [
       "<Figure size 864x432 with 1 Axes>"
      ]
     },
     "metadata": {},
     "output_type": "display_data"
    }
   ],
   "source": [
    "from matplotlib import rcParams\n",
    "rcParams['figure.figsize'] = (12, 6)\n",
    "rcParams['figure.facecolor'] = 'w'\n",
    "rcParams['legend.edgecolor'] = 'k'\n",
    "\n",
    "plt.plot(data[:, 0], data[:, 1], 'x')\n",
    "plt.show()"
   ]
  },
  {
   "cell_type": "code",
   "execution_count": 6,
   "metadata": {},
   "outputs": [],
   "source": [
    "from edhsmm.hsmm_base import GaussianHSMM\n",
    "R = GaussianHSMM(n_states = 3, n_durations = 20, random_state = 42)"
   ]
  },
  {
   "cell_type": "code",
   "execution_count": 7,
   "metadata": {},
   "outputs": [
    {
     "name": "stdout",
     "output_type": "stream",
     "text": [
      "FIT: reestimation complete for loop 1.\n",
      "FIT: reestimation complete for loop 2.\n",
      "FIT: reestimation complete for loop 3.\n",
      "FIT: reestimation complete for loop 4.\n",
      "FIT: reestimation complete for loop 5.\n",
      "FIT: reestimation complete for loop 6.\n",
      "FIT: reestimation complete for loop 7.\n",
      "FIT: reestimation complete for loop 8.\n",
      "FIT: reestimation complete for loop 9.\n",
      "FIT: reestimation complete for loop 10.\n",
      "FIT: reestimation complete for loop 11.\n",
      "FIT: reestimation complete for loop 12.\n",
      "FIT: reestimation complete for loop 13.\n",
      "FIT: converged at loop 14.\n"
     ]
    }
   ],
   "source": [
    "R.fit(data)"
   ]
  },
  {
   "cell_type": "code",
   "execution_count": 8,
   "metadata": {},
   "outputs": [
    {
     "name": "stdout",
     "output_type": "stream",
     "text": [
      "Original Means:\n",
      " [[ 0  5]\n",
      " [-1 -1]\n",
      " [-1  3]] \n",
      "\n",
      "Original Covariance Matrices:\n",
      " [[[ 0.1 -0.5]\n",
      "  [-0.5  3. ]]\n",
      "\n",
      " [[ 0.6  0.7]\n",
      "  [ 0.7  1. ]]\n",
      "\n",
      " [[ 1.   0. ]\n",
      "  [ 0.   1. ]]] \n",
      "\n",
      "Learned Means:\n",
      " [[-0.04996589  5.20062977]\n",
      " [-0.99658955 -0.96648514]\n",
      " [-1.14512311  3.00548263]] \n",
      "\n",
      "Learned Covariance Matrices:\n",
      " [[[ 0.10807261 -0.53558802]\n",
      "  [-0.53558802  3.05676116]]\n",
      "\n",
      " [[ 0.49309206  0.61393543]\n",
      "  [ 0.61393543  0.91264995]]\n",
      "\n",
      " [[ 1.1154796   0.01927677]\n",
      "  [ 0.01927677  1.13738244]]]\n"
     ]
    }
   ],
   "source": [
    "# comparison\n",
    "print(\"Original Means:\\n\", OG_means, \"\\n\")\n",
    "print(\"Original Covariance Matrices:\\n\", OG_covars, \"\\n\")\n",
    "\n",
    "print(\"Learned Means:\\n\", R.mean, \"\\n\")\n",
    "print(\"Learned Covariance Matrices:\\n\", R.covmat)"
   ]
  },
  {
   "cell_type": "code",
   "execution_count": null,
   "metadata": {},
   "outputs": [],
   "source": []
  }
 ],
 "metadata": {
  "kernelspec": {
   "display_name": "Python 3 (ipykernel)",
   "language": "python",
   "name": "python3"
  },
  "language_info": {
   "codemirror_mode": {
    "name": "ipython",
    "version": 3
   },
   "file_extension": ".py",
   "mimetype": "text/x-python",
   "name": "python",
   "nbconvert_exporter": "python",
   "pygments_lexer": "ipython3",
   "version": "3.10.2"
  }
 },
 "nbformat": 4,
 "nbformat_minor": 2
}
